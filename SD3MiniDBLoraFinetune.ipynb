{
  "cells": [
    {
      "cell_type": "markdown",
      "metadata": {
        "id": "a6xLZDgOajbd"
      },
      "source": [
        "# Running Stable Diffusion 3 (SD3) DreamBooth LoRA training under 16GB GPU VRAM"
      ]
    },
    {
      "cell_type": "markdown",
      "metadata": {
        "id": "0jPZpMTwafua"
      },
      "source": [
        "## Install Dependencies"
      ]
    },
    {
      "cell_type": "code",
      "execution_count": 1,
      "metadata": {
        "colab": {
          "base_uri": "https://localhost:8080/"
        },
        "id": "lIYdn1woOS1n",
        "outputId": "d9a1f7e0-6e45-449a-d8ed-8f40f65e8d1d"
      },
      "outputs": [],
      "source": [
        "!pip install -q -U git+https://github.com/huggingface/diffusers\n",
        "!pip install -q -U \\\n",
        "    transformers \\\n",
        "    accelerate \\\n",
        "    wandb \\\n",
        "    bitsandbytes \\\n",
        "    peft \\\n",
        "    parquet \\\n",
        "    fastparquet \\\n",
        "    safetensors"
      ]
    },
    {
      "cell_type": "markdown",
      "metadata": {
        "id": "5qUNciw6aov2"
      },
      "source": [
        "As SD3 is gated, before using it with diffusers you first need to go to the [Stable Diffusion 3 Medium Hugging Face page](https://huggingface.co/stabilityai/stable-diffusion-3-medium-diffusers), fill in the form and accept the gate. Once you are in, you need to log in so that your system knows you’ve accepted the gate. Use the command below to log in:"
      ]
    },
    {
      "cell_type": "code",
      "execution_count": 3,
      "metadata": {
        "colab": {
          "base_uri": "https://localhost:8080/"
        },
        "id": "Bpk5FleeK1NR",
        "outputId": "0669b119-89ae-4dd2-d1a5-84feed92cb93"
      },
      "outputs": [
        {
          "name": "stdout",
          "output_type": "stream",
          "text": [
            "\n",
            "    _|    _|  _|    _|    _|_|_|    _|_|_|  _|_|_|  _|      _|    _|_|_|      _|_|_|_|    _|_|      _|_|_|  _|_|_|_|\n",
            "    _|    _|  _|    _|  _|        _|          _|    _|_|    _|  _|            _|        _|    _|  _|        _|\n",
            "    _|_|_|_|  _|    _|  _|  _|_|  _|  _|_|    _|    _|  _|  _|  _|  _|_|      _|_|_|    _|_|_|_|  _|        _|_|_|\n",
            "    _|    _|  _|    _|  _|    _|  _|    _|    _|    _|    _|_|  _|    _|      _|        _|    _|  _|        _|\n",
            "    _|    _|    _|_|      _|_|_|    _|_|_|  _|_|_|  _|      _|    _|_|_|      _|        _|    _|    _|_|_|  _|_|_|_|\n",
            "\n",
            "    To login, `huggingface_hub` requires a token generated from https://huggingface.co/settings/tokens .\n",
            "Enter your token (input will not be visible): Traceback (most recent call last):\n",
            "  File \"/home/zeus/miniconda3/envs/cloudspace/bin/huggingface-cli\", line 8, in <module>\n",
            "    sys.exit(main())\n",
            "  File \"/home/zeus/miniconda3/envs/cloudspace/lib/python3.10/site-packages/huggingface_hub/commands/huggingface_cli.py\", line 51, in main\n",
            "    service.run()\n",
            "  File \"/home/zeus/miniconda3/envs/cloudspace/lib/python3.10/site-packages/huggingface_hub/commands/user.py\", line 98, in run\n",
            "    login(token=self.args.token, add_to_git_credential=self.args.add_to_git_credential)\n",
            "  File \"/home/zeus/miniconda3/envs/cloudspace/lib/python3.10/site-packages/huggingface_hub/_login.py\", line 115, in login\n",
            "    interpreter_login(new_session=new_session, write_permission=write_permission)\n",
            "  File \"/home/zeus/miniconda3/envs/cloudspace/lib/python3.10/site-packages/huggingface_hub/_login.py\", line 191, in interpreter_login\n",
            "    token = getpass(\"Enter your token (input will not be visible): \")\n",
            "  File \"/home/zeus/miniconda3/envs/cloudspace/lib/python3.10/getpass.py\", line 77, in unix_getpass\n",
            "    passwd = _raw_input(prompt, stream, input=input)\n",
            "  File \"/home/zeus/miniconda3/envs/cloudspace/lib/python3.10/getpass.py\", line 146, in _raw_input\n",
            "    line = input.readline()\n",
            "  File \"/home/zeus/miniconda3/envs/cloudspace/lib/python3.10/codecs.py\", line 319, in decode\n",
            "    def decode(self, input, final=False):\n",
            "KeyboardInterrupt\n"
          ]
        }
      ],
      "source": [
        "!huggingface-cli login"
      ]
    },
    {
      "cell_type": "code",
      "execution_count": 2,
      "metadata": {},
      "outputs": [],
      "source": [
        "import os\n",
        "with open(\"token.txt\", \"r\") as f:\n",
        "    os.environ[\"HF_TOKEN\"] = f.read()"
      ]
    },
    {
      "cell_type": "markdown",
      "metadata": {
        "id": "tcF7gl4FasJV"
      },
      "source": [
        "## Clone `diffusers`"
      ]
    },
    {
      "cell_type": "code",
      "execution_count": 5,
      "metadata": {
        "colab": {
          "base_uri": "https://localhost:8080/"
        },
        "id": "QgSOJYglJKiM",
        "outputId": "76fb2517-ba20-473f-f35a-1abff4a408ca"
      },
      "outputs": [
        {
          "name": "stdout",
          "output_type": "stream",
          "text": [
            "Cloning into 'diffusers'...\n",
            "\n",
            "/teamspace/studios/this_studio/diffusers/examples/research_projects/sd3_lora_colab\n"
          ]
        },
        {
          "name": "stderr",
          "output_type": "stream",
          "text": [
            "/home/zeus/miniconda3/envs/cloudspace/lib/python3.10/site-packages/IPython/core/magics/osm.py:417: UserWarning: using dhist requires you to install the `pickleshare` library.\n",
            "  self.shell.db['dhist'] = compress_dhist(dhist)[-100:]\n"
          ]
        }
      ],
      "source": [
        "!git clone https://github.com/huggingface/diffusers"
      ]
    },
    {
      "cell_type": "code",
      "execution_count": 3,
      "metadata": {},
      "outputs": [
        {
          "name": "stdout",
          "output_type": "stream",
          "text": [
            "/teamspace/studios/this_studio/diffusers/examples/research_projects/sd3_lora_colab\n"
          ]
        },
        {
          "name": "stderr",
          "output_type": "stream",
          "text": [
            "/home/zeus/miniconda3/envs/cloudspace/lib/python3.10/site-packages/IPython/core/magics/osm.py:417: UserWarning: using dhist requires you to install the `pickleshare` library.\n",
            "  self.shell.db['dhist'] = compress_dhist(dhist)[-100:]\n"
          ]
        }
      ],
      "source": [
        "%cd diffusers/examples/research_projects/sd3_lora_colab"
      ]
    },
    {
      "cell_type": "markdown",
      "metadata": {
        "id": "X9dBawr6ayRY"
      },
      "source": [
        "## Download instance data images"
      ]
    },
    {
      "cell_type": "code",
      "execution_count": null,
      "metadata": {
        "colab": {
          "base_uri": "https://localhost:8080/"
        },
        "id": "mBgrLMZK5aQc",
        "outputId": "33adcb43-f933-47bb-f7f9-105225c8eab1"
      },
      "outputs": [
        {
          "name": "stdout",
          "output_type": "stream",
          "text": [
            "Reading package lists... Done\n",
            "Building dependency tree... Done\n",
            "Reading state information... Done\n",
            "unzip is already the newest version (6.0-26ubuntu3.2).\n",
            "0 upgraded, 0 newly installed, 0 to remove and 45 not upgraded.\n",
            "Archive:  /content/images.zip\n",
            "   creating: images/\n",
            "  inflating: images/bodyarmor1.jpg   \n",
            "  inflating: images/bodyarmor2.jpg   \n",
            "  inflating: images/gatorade1.jpg    \n",
            "  inflating: images/gatorade2.jpg    \n",
            "  inflating: images/gatorade3.jpg    \n",
            "  inflating: images/gatorade4.jpg    \n",
            "  inflating: images/gatorade5.jpg    \n",
            "  inflating: images/powerade1.jpg    \n",
            "  inflating: images/powerade2.jpg    \n",
            "  inflating: images/prime1.jpg       \n"
          ]
        }
      ],
      "source": [
        "!apt install unzip\n",
        "!unzip \"/content/images.zip\""
      ]
    },
    {
      "cell_type": "markdown",
      "metadata": {
        "id": "88sOTn2ga07q"
      },
      "source": [
        "## Compute embeddings\n",
        "\n",
        "Add your image folder and configure the correct instance prompt. Refer to the `compute_embeddings.py` script for details on other supported arguments.\n",
        "\n",
        "### YOU NEED TO CONFIGURE `compute_embeddings.py` WHEN CHANGING FILES IN ORDER TO MAKE THIS WORKKKK"
      ]
    },
    {
      "cell_type": "code",
      "execution_count": 35,
      "metadata": {
        "colab": {
          "base_uri": "https://localhost:8080/"
        },
        "id": "ha6hPLpHLM8c",
        "outputId": "f02b8ac1-227b-477c-a6a5-93f2b61a7a2b"
      },
      "outputs": [
        {
          "name": "stdout",
          "output_type": "stream",
          "text": [
            "The `load_in_4bit` and `load_in_8bit` arguments are deprecated and will be removed in the future versions. Please, pass a `BitsAndBytesConfig` object in `quantization_config` argument instead.\n",
            "Downloading shards: 100%|███████████████████████| 2/2 [00:00<00:00, 2746.76it/s]\n",
            "Loading checkpoint shards: 100%|██████████████████| 2/2 [00:09<00:00,  4.68s/it]\n",
            "Loading pipeline components...:  29%|███▋         | 2/7 [00:55<02:19, 27.87s/it]You set `add_prefix_space`. The tokenizer needs to be converted from the slow tokenizers\n",
            "Loading pipeline components...: 100%|█████████████| 7/7 [03:25<00:00, 29.40s/it]\n",
            "prompt_embeds.shape=torch.Size([1, 154, 4096]), negative_prompt_embeds.shape=torch.Size([1, 154, 4096]), pooled_prompt_embeds.shape=torch.Size([1, 2048]), torch.Size([1, 2048])\n",
            "Max memory allocated: 10.552 GB\n",
            "[('52504d405d31c6d1bf47d29b457cd5466da8ea47aed0f93bf9469d11ab842c19', tensor([[[-3.8917e+00, -2.5113e+00,  4.7167e+00,  ...,  0.0000e+00,\n",
            "           0.0000e+00,  0.0000e+00],\n",
            "         [ 8.9254e-02, -6.1968e-01, -4.8766e-01,  ...,  0.0000e+00,\n",
            "           0.0000e+00,  0.0000e+00],\n",
            "         [-4.9129e-01, -2.6522e-01, -5.3410e-01,  ...,  0.0000e+00,\n",
            "           0.0000e+00,  0.0000e+00],\n",
            "         ...,\n",
            "         [ 6.0181e-02, -1.0582e-02,  4.5319e-02,  ...,  1.6623e-03,\n",
            "          -4.7272e-02, -2.1881e-02],\n",
            "         [ 7.3059e-02,  7.1449e-03, -6.5186e-02,  ..., -1.3599e-01,\n",
            "          -9.8083e-02, -9.1125e-02],\n",
            "         [-3.2864e-03,  2.2629e-02, -7.8735e-03,  ...,  6.7291e-03,\n",
            "          -1.9699e-02,  1.2238e-02]]], device='cuda:0'), tensor([[[-3.8917e+00, -2.5113e+00,  4.7167e+00,  ...,  0.0000e+00,\n",
            "           0.0000e+00,  0.0000e+00],\n",
            "         [-3.7585e-01, -6.8345e-01, -4.7284e-01,  ...,  0.0000e+00,\n",
            "           0.0000e+00,  0.0000e+00],\n",
            "         [-4.8401e-01, -7.4149e-01, -4.3799e-01,  ...,  0.0000e+00,\n",
            "           0.0000e+00,  0.0000e+00],\n",
            "         ...,\n",
            "         [ 5.7556e-02, -9.5520e-03,  4.4769e-02,  ...,  2.1744e-03,\n",
            "          -4.5441e-02, -1.7822e-02],\n",
            "         [-5.8746e-03,  2.4048e-02, -9.9411e-03,  ...,  1.0620e-02,\n",
            "          -1.4565e-02,  9.7656e-03],\n",
            "         [ 5.7259e-03, -3.4733e-03, -1.8570e-02,  ..., -5.4474e-02,\n",
            "           2.7847e-03, -2.6588e-03]]], device='cuda:0'), tensor([[-0.1729, -1.3968, -2.0081,  ..., -1.6563, -1.3528, -1.5106]],\n",
            "       device='cuda:0'), tensor([[-0.3714, -1.4495, -0.3403,  ..., -0.6773, -0.3750,  0.6522]],\n",
            "       device='cuda:0')), ('ea4eff802a86762ba02f24c3e965c276007d0b9d3171c190e8e9cce085f8b94e', tensor([[[-3.8917e+00, -2.5113e+00,  4.7167e+00,  ...,  0.0000e+00,\n",
            "           0.0000e+00,  0.0000e+00],\n",
            "         [ 8.9254e-02, -6.1968e-01, -4.8766e-01,  ...,  0.0000e+00,\n",
            "           0.0000e+00,  0.0000e+00],\n",
            "         [-4.9129e-01, -2.6522e-01, -5.3410e-01,  ...,  0.0000e+00,\n",
            "           0.0000e+00,  0.0000e+00],\n",
            "         ...,\n",
            "         [ 6.0181e-02, -1.0582e-02,  4.5319e-02,  ...,  1.6623e-03,\n",
            "          -4.7272e-02, -2.1881e-02],\n",
            "         [ 7.3059e-02,  7.1449e-03, -6.5186e-02,  ..., -1.3599e-01,\n",
            "          -9.8083e-02, -9.1125e-02],\n",
            "         [-3.2864e-03,  2.2629e-02, -7.8735e-03,  ...,  6.7291e-03,\n",
            "          -1.9699e-02,  1.2238e-02]]], device='cuda:0'), tensor([[[-3.8917e+00, -2.5113e+00,  4.7167e+00,  ...,  0.0000e+00,\n",
            "           0.0000e+00,  0.0000e+00],\n",
            "         [-3.7585e-01, -6.8345e-01, -4.7284e-01,  ...,  0.0000e+00,\n",
            "           0.0000e+00,  0.0000e+00],\n",
            "         [-4.8401e-01, -7.4149e-01, -4.3799e-01,  ...,  0.0000e+00,\n",
            "           0.0000e+00,  0.0000e+00],\n",
            "         ...,\n",
            "         [ 5.7556e-02, -9.5520e-03,  4.4769e-02,  ...,  2.1744e-03,\n",
            "          -4.5441e-02, -1.7822e-02],\n",
            "         [-5.8746e-03,  2.4048e-02, -9.9411e-03,  ...,  1.0620e-02,\n",
            "          -1.4565e-02,  9.7656e-03],\n",
            "         [ 5.7259e-03, -3.4733e-03, -1.8570e-02,  ..., -5.4474e-02,\n",
            "           2.7847e-03, -2.6588e-03]]], device='cuda:0'), tensor([[-0.1729, -1.3968, -2.0081,  ..., -1.6563, -1.3528, -1.5106]],\n",
            "       device='cuda:0'), tensor([[-0.3714, -1.4495, -0.3403,  ..., -0.6773, -0.3750,  0.6522]],\n",
            "       device='cuda:0')), ('63e69121120a864eb7dab93fe7136a50750417a1d6ec5b816caa019a7da1f7f2', tensor([[[-3.8917e+00, -2.5113e+00,  4.7167e+00,  ...,  0.0000e+00,\n",
            "           0.0000e+00,  0.0000e+00],\n",
            "         [ 8.9254e-02, -6.1968e-01, -4.8766e-01,  ...,  0.0000e+00,\n",
            "           0.0000e+00,  0.0000e+00],\n",
            "         [-4.9129e-01, -2.6522e-01, -5.3410e-01,  ...,  0.0000e+00,\n",
            "           0.0000e+00,  0.0000e+00],\n",
            "         ...,\n",
            "         [ 6.0181e-02, -1.0582e-02,  4.5319e-02,  ...,  1.6623e-03,\n",
            "          -4.7272e-02, -2.1881e-02],\n",
            "         [ 7.3059e-02,  7.1449e-03, -6.5186e-02,  ..., -1.3599e-01,\n",
            "          -9.8083e-02, -9.1125e-02],\n",
            "         [-3.2864e-03,  2.2629e-02, -7.8735e-03,  ...,  6.7291e-03,\n",
            "          -1.9699e-02,  1.2238e-02]]], device='cuda:0'), tensor([[[-3.8917e+00, -2.5113e+00,  4.7167e+00,  ...,  0.0000e+00,\n",
            "           0.0000e+00,  0.0000e+00],\n",
            "         [-3.7585e-01, -6.8345e-01, -4.7284e-01,  ...,  0.0000e+00,\n",
            "           0.0000e+00,  0.0000e+00],\n",
            "         [-4.8401e-01, -7.4149e-01, -4.3799e-01,  ...,  0.0000e+00,\n",
            "           0.0000e+00,  0.0000e+00],\n",
            "         ...,\n",
            "         [ 5.7556e-02, -9.5520e-03,  4.4769e-02,  ...,  2.1744e-03,\n",
            "          -4.5441e-02, -1.7822e-02],\n",
            "         [-5.8746e-03,  2.4048e-02, -9.9411e-03,  ...,  1.0620e-02,\n",
            "          -1.4565e-02,  9.7656e-03],\n",
            "         [ 5.7259e-03, -3.4733e-03, -1.8570e-02,  ..., -5.4474e-02,\n",
            "           2.7847e-03, -2.6588e-03]]], device='cuda:0'), tensor([[-0.1729, -1.3968, -2.0081,  ..., -1.6563, -1.3528, -1.5106]],\n",
            "       device='cuda:0'), tensor([[-0.3714, -1.4495, -0.3403,  ..., -0.6773, -0.3750,  0.6522]],\n",
            "       device='cuda:0')), ('43ceb5582f86556468719f2b0ee6decd131a9fc759a10a4eca66f45f51a16c78', tensor([[[-3.8917e+00, -2.5113e+00,  4.7167e+00,  ...,  0.0000e+00,\n",
            "           0.0000e+00,  0.0000e+00],\n",
            "         [ 8.9254e-02, -6.1968e-01, -4.8766e-01,  ...,  0.0000e+00,\n",
            "           0.0000e+00,  0.0000e+00],\n",
            "         [-4.9129e-01, -2.6522e-01, -5.3410e-01,  ...,  0.0000e+00,\n",
            "           0.0000e+00,  0.0000e+00],\n",
            "         ...,\n",
            "         [ 6.0181e-02, -1.0582e-02,  4.5319e-02,  ...,  1.6623e-03,\n",
            "          -4.7272e-02, -2.1881e-02],\n",
            "         [ 7.3059e-02,  7.1449e-03, -6.5186e-02,  ..., -1.3599e-01,\n",
            "          -9.8083e-02, -9.1125e-02],\n",
            "         [-3.2864e-03,  2.2629e-02, -7.8735e-03,  ...,  6.7291e-03,\n",
            "          -1.9699e-02,  1.2238e-02]]], device='cuda:0'), tensor([[[-3.8917e+00, -2.5113e+00,  4.7167e+00,  ...,  0.0000e+00,\n",
            "           0.0000e+00,  0.0000e+00],\n",
            "         [-3.7585e-01, -6.8345e-01, -4.7284e-01,  ...,  0.0000e+00,\n",
            "           0.0000e+00,  0.0000e+00],\n",
            "         [-4.8401e-01, -7.4149e-01, -4.3799e-01,  ...,  0.0000e+00,\n",
            "           0.0000e+00,  0.0000e+00],\n",
            "         ...,\n",
            "         [ 5.7556e-02, -9.5520e-03,  4.4769e-02,  ...,  2.1744e-03,\n",
            "          -4.5441e-02, -1.7822e-02],\n",
            "         [-5.8746e-03,  2.4048e-02, -9.9411e-03,  ...,  1.0620e-02,\n",
            "          -1.4565e-02,  9.7656e-03],\n",
            "         [ 5.7259e-03, -3.4733e-03, -1.8570e-02,  ..., -5.4474e-02,\n",
            "           2.7847e-03, -2.6588e-03]]], device='cuda:0'), tensor([[-0.1729, -1.3968, -2.0081,  ..., -1.6563, -1.3528, -1.5106]],\n",
            "       device='cuda:0'), tensor([[-0.3714, -1.4495, -0.3403,  ..., -0.6773, -0.3750,  0.6522]],\n",
            "       device='cuda:0')), ('f9c212aa6c7509941ce6f57db361157e095bb408d50b6bf2c241173482998d85', tensor([[[-3.8917e+00, -2.5113e+00,  4.7167e+00,  ...,  0.0000e+00,\n",
            "           0.0000e+00,  0.0000e+00],\n",
            "         [ 8.9254e-02, -6.1968e-01, -4.8766e-01,  ...,  0.0000e+00,\n",
            "           0.0000e+00,  0.0000e+00],\n",
            "         [-4.9129e-01, -2.6522e-01, -5.3410e-01,  ...,  0.0000e+00,\n",
            "           0.0000e+00,  0.0000e+00],\n",
            "         ...,\n",
            "         [ 6.0181e-02, -1.0582e-02,  4.5319e-02,  ...,  1.6623e-03,\n",
            "          -4.7272e-02, -2.1881e-02],\n",
            "         [ 7.3059e-02,  7.1449e-03, -6.5186e-02,  ..., -1.3599e-01,\n",
            "          -9.8083e-02, -9.1125e-02],\n",
            "         [-3.2864e-03,  2.2629e-02, -7.8735e-03,  ...,  6.7291e-03,\n",
            "          -1.9699e-02,  1.2238e-02]]], device='cuda:0'), tensor([[[-3.8917e+00, -2.5113e+00,  4.7167e+00,  ...,  0.0000e+00,\n",
            "           0.0000e+00,  0.0000e+00],\n",
            "         [-3.7585e-01, -6.8345e-01, -4.7284e-01,  ...,  0.0000e+00,\n",
            "           0.0000e+00,  0.0000e+00],\n",
            "         [-4.8401e-01, -7.4149e-01, -4.3799e-01,  ...,  0.0000e+00,\n",
            "           0.0000e+00,  0.0000e+00],\n",
            "         ...,\n",
            "         [ 5.7556e-02, -9.5520e-03,  4.4769e-02,  ...,  2.1744e-03,\n",
            "          -4.5441e-02, -1.7822e-02],\n",
            "         [-5.8746e-03,  2.4048e-02, -9.9411e-03,  ...,  1.0620e-02,\n",
            "          -1.4565e-02,  9.7656e-03],\n",
            "         [ 5.7259e-03, -3.4733e-03, -1.8570e-02,  ..., -5.4474e-02,\n",
            "           2.7847e-03, -2.6588e-03]]], device='cuda:0'), tensor([[-0.1729, -1.3968, -2.0081,  ..., -1.6563, -1.3528, -1.5106]],\n",
            "       device='cuda:0'), tensor([[-0.3714, -1.4495, -0.3403,  ..., -0.6773, -0.3750,  0.6522]],\n",
            "       device='cuda:0')), ('d7575e4506102abb98a76bc9c8a03f6704813f8dadae933884754151fce4ed6e', tensor([[[-3.8917e+00, -2.5113e+00,  4.7167e+00,  ...,  0.0000e+00,\n",
            "           0.0000e+00,  0.0000e+00],\n",
            "         [ 8.9254e-02, -6.1968e-01, -4.8766e-01,  ...,  0.0000e+00,\n",
            "           0.0000e+00,  0.0000e+00],\n",
            "         [-4.9129e-01, -2.6522e-01, -5.3410e-01,  ...,  0.0000e+00,\n",
            "           0.0000e+00,  0.0000e+00],\n",
            "         ...,\n",
            "         [ 6.0181e-02, -1.0582e-02,  4.5319e-02,  ...,  1.6623e-03,\n",
            "          -4.7272e-02, -2.1881e-02],\n",
            "         [ 7.3059e-02,  7.1449e-03, -6.5186e-02,  ..., -1.3599e-01,\n",
            "          -9.8083e-02, -9.1125e-02],\n",
            "         [-3.2864e-03,  2.2629e-02, -7.8735e-03,  ...,  6.7291e-03,\n",
            "          -1.9699e-02,  1.2238e-02]]], device='cuda:0'), tensor([[[-3.8917e+00, -2.5113e+00,  4.7167e+00,  ...,  0.0000e+00,\n",
            "           0.0000e+00,  0.0000e+00],\n",
            "         [-3.7585e-01, -6.8345e-01, -4.7284e-01,  ...,  0.0000e+00,\n",
            "           0.0000e+00,  0.0000e+00],\n",
            "         [-4.8401e-01, -7.4149e-01, -4.3799e-01,  ...,  0.0000e+00,\n",
            "           0.0000e+00,  0.0000e+00],\n",
            "         ...,\n",
            "         [ 5.7556e-02, -9.5520e-03,  4.4769e-02,  ...,  2.1744e-03,\n",
            "          -4.5441e-02, -1.7822e-02],\n",
            "         [-5.8746e-03,  2.4048e-02, -9.9411e-03,  ...,  1.0620e-02,\n",
            "          -1.4565e-02,  9.7656e-03],\n",
            "         [ 5.7259e-03, -3.4733e-03, -1.8570e-02,  ..., -5.4474e-02,\n",
            "           2.7847e-03, -2.6588e-03]]], device='cuda:0'), tensor([[-0.1729, -1.3968, -2.0081,  ..., -1.6563, -1.3528, -1.5106]],\n",
            "       device='cuda:0'), tensor([[-0.3714, -1.4495, -0.3403,  ..., -0.6773, -0.3750,  0.6522]],\n",
            "       device='cuda:0')), ('5299dad4e362803326c80a9c5c0538b92eb7acaa7b5dcec002f00235679ab0ee', tensor([[[-3.8917e+00, -2.5113e+00,  4.7167e+00,  ...,  0.0000e+00,\n",
            "           0.0000e+00,  0.0000e+00],\n",
            "         [ 8.9254e-02, -6.1968e-01, -4.8766e-01,  ...,  0.0000e+00,\n",
            "           0.0000e+00,  0.0000e+00],\n",
            "         [-4.9129e-01, -2.6522e-01, -5.3410e-01,  ...,  0.0000e+00,\n",
            "           0.0000e+00,  0.0000e+00],\n",
            "         ...,\n",
            "         [ 6.0181e-02, -1.0582e-02,  4.5319e-02,  ...,  1.6623e-03,\n",
            "          -4.7272e-02, -2.1881e-02],\n",
            "         [ 7.3059e-02,  7.1449e-03, -6.5186e-02,  ..., -1.3599e-01,\n",
            "          -9.8083e-02, -9.1125e-02],\n",
            "         [-3.2864e-03,  2.2629e-02, -7.8735e-03,  ...,  6.7291e-03,\n",
            "          -1.9699e-02,  1.2238e-02]]], device='cuda:0'), tensor([[[-3.8917e+00, -2.5113e+00,  4.7167e+00,  ...,  0.0000e+00,\n",
            "           0.0000e+00,  0.0000e+00],\n",
            "         [-3.7585e-01, -6.8345e-01, -4.7284e-01,  ...,  0.0000e+00,\n",
            "           0.0000e+00,  0.0000e+00],\n",
            "         [-4.8401e-01, -7.4149e-01, -4.3799e-01,  ...,  0.0000e+00,\n",
            "           0.0000e+00,  0.0000e+00],\n",
            "         ...,\n",
            "         [ 5.7556e-02, -9.5520e-03,  4.4769e-02,  ...,  2.1744e-03,\n",
            "          -4.5441e-02, -1.7822e-02],\n",
            "         [-5.8746e-03,  2.4048e-02, -9.9411e-03,  ...,  1.0620e-02,\n",
            "          -1.4565e-02,  9.7656e-03],\n",
            "         [ 5.7259e-03, -3.4733e-03, -1.8570e-02,  ..., -5.4474e-02,\n",
            "           2.7847e-03, -2.6588e-03]]], device='cuda:0'), tensor([[-0.1729, -1.3968, -2.0081,  ..., -1.6563, -1.3528, -1.5106]],\n",
            "       device='cuda:0'), tensor([[-0.3714, -1.4495, -0.3403,  ..., -0.6773, -0.3750,  0.6522]],\n",
            "       device='cuda:0')), ('f5551568b421dd0defe52eaeb6f1b79ed20b1fc3de40ac0f76b00508c9e27fe5', tensor([[[-3.8917e+00, -2.5113e+00,  4.7167e+00,  ...,  0.0000e+00,\n",
            "           0.0000e+00,  0.0000e+00],\n",
            "         [ 8.9254e-02, -6.1968e-01, -4.8766e-01,  ...,  0.0000e+00,\n",
            "           0.0000e+00,  0.0000e+00],\n",
            "         [-4.9129e-01, -2.6522e-01, -5.3410e-01,  ...,  0.0000e+00,\n",
            "           0.0000e+00,  0.0000e+00],\n",
            "         ...,\n",
            "         [ 6.0181e-02, -1.0582e-02,  4.5319e-02,  ...,  1.6623e-03,\n",
            "          -4.7272e-02, -2.1881e-02],\n",
            "         [ 7.3059e-02,  7.1449e-03, -6.5186e-02,  ..., -1.3599e-01,\n",
            "          -9.8083e-02, -9.1125e-02],\n",
            "         [-3.2864e-03,  2.2629e-02, -7.8735e-03,  ...,  6.7291e-03,\n",
            "          -1.9699e-02,  1.2238e-02]]], device='cuda:0'), tensor([[[-3.8917e+00, -2.5113e+00,  4.7167e+00,  ...,  0.0000e+00,\n",
            "           0.0000e+00,  0.0000e+00],\n",
            "         [-3.7585e-01, -6.8345e-01, -4.7284e-01,  ...,  0.0000e+00,\n",
            "           0.0000e+00,  0.0000e+00],\n",
            "         [-4.8401e-01, -7.4149e-01, -4.3799e-01,  ...,  0.0000e+00,\n",
            "           0.0000e+00,  0.0000e+00],\n",
            "         ...,\n",
            "         [ 5.7556e-02, -9.5520e-03,  4.4769e-02,  ...,  2.1744e-03,\n",
            "          -4.5441e-02, -1.7822e-02],\n",
            "         [-5.8746e-03,  2.4048e-02, -9.9411e-03,  ...,  1.0620e-02,\n",
            "          -1.4565e-02,  9.7656e-03],\n",
            "         [ 5.7259e-03, -3.4733e-03, -1.8570e-02,  ..., -5.4474e-02,\n",
            "           2.7847e-03, -2.6588e-03]]], device='cuda:0'), tensor([[-0.1729, -1.3968, -2.0081,  ..., -1.6563, -1.3528, -1.5106]],\n",
            "       device='cuda:0'), tensor([[-0.3714, -1.4495, -0.3403,  ..., -0.6773, -0.3750,  0.6522]],\n",
            "       device='cuda:0')), ('73e15380624de402a2cb00a1c691227c45ee4ae9108dae59baf353843574268b', tensor([[[-3.8917e+00, -2.5113e+00,  4.7167e+00,  ...,  0.0000e+00,\n",
            "           0.0000e+00,  0.0000e+00],\n",
            "         [ 8.9254e-02, -6.1968e-01, -4.8766e-01,  ...,  0.0000e+00,\n",
            "           0.0000e+00,  0.0000e+00],\n",
            "         [-4.9129e-01, -2.6522e-01, -5.3410e-01,  ...,  0.0000e+00,\n",
            "           0.0000e+00,  0.0000e+00],\n",
            "         ...,\n",
            "         [ 6.0181e-02, -1.0582e-02,  4.5319e-02,  ...,  1.6623e-03,\n",
            "          -4.7272e-02, -2.1881e-02],\n",
            "         [ 7.3059e-02,  7.1449e-03, -6.5186e-02,  ..., -1.3599e-01,\n",
            "          -9.8083e-02, -9.1125e-02],\n",
            "         [-3.2864e-03,  2.2629e-02, -7.8735e-03,  ...,  6.7291e-03,\n",
            "          -1.9699e-02,  1.2238e-02]]], device='cuda:0'), tensor([[[-3.8917e+00, -2.5113e+00,  4.7167e+00,  ...,  0.0000e+00,\n",
            "           0.0000e+00,  0.0000e+00],\n",
            "         [-3.7585e-01, -6.8345e-01, -4.7284e-01,  ...,  0.0000e+00,\n",
            "           0.0000e+00,  0.0000e+00],\n",
            "         [-4.8401e-01, -7.4149e-01, -4.3799e-01,  ...,  0.0000e+00,\n",
            "           0.0000e+00,  0.0000e+00],\n",
            "         ...,\n",
            "         [ 5.7556e-02, -9.5520e-03,  4.4769e-02,  ...,  2.1744e-03,\n",
            "          -4.5441e-02, -1.7822e-02],\n",
            "         [-5.8746e-03,  2.4048e-02, -9.9411e-03,  ...,  1.0620e-02,\n",
            "          -1.4565e-02,  9.7656e-03],\n",
            "         [ 5.7259e-03, -3.4733e-03, -1.8570e-02,  ..., -5.4474e-02,\n",
            "           2.7847e-03, -2.6588e-03]]], device='cuda:0'), tensor([[-0.1729, -1.3968, -2.0081,  ..., -1.6563, -1.3528, -1.5106]],\n",
            "       device='cuda:0'), tensor([[-0.3714, -1.4495, -0.3403,  ..., -0.6773, -0.3750,  0.6522]],\n",
            "       device='cuda:0')), ('a3826cc4062b08c64aa933ed215999962812974c59e5e46163492841c327db4f', tensor([[[-3.8917e+00, -2.5113e+00,  4.7167e+00,  ...,  0.0000e+00,\n",
            "           0.0000e+00,  0.0000e+00],\n",
            "         [ 8.9254e-02, -6.1968e-01, -4.8766e-01,  ...,  0.0000e+00,\n",
            "           0.0000e+00,  0.0000e+00],\n",
            "         [-4.9129e-01, -2.6522e-01, -5.3410e-01,  ...,  0.0000e+00,\n",
            "           0.0000e+00,  0.0000e+00],\n",
            "         ...,\n",
            "         [ 6.0181e-02, -1.0582e-02,  4.5319e-02,  ...,  1.6623e-03,\n",
            "          -4.7272e-02, -2.1881e-02],\n",
            "         [ 7.3059e-02,  7.1449e-03, -6.5186e-02,  ..., -1.3599e-01,\n",
            "          -9.8083e-02, -9.1125e-02],\n",
            "         [-3.2864e-03,  2.2629e-02, -7.8735e-03,  ...,  6.7291e-03,\n",
            "          -1.9699e-02,  1.2238e-02]]], device='cuda:0'), tensor([[[-3.8917e+00, -2.5113e+00,  4.7167e+00,  ...,  0.0000e+00,\n",
            "           0.0000e+00,  0.0000e+00],\n",
            "         [-3.7585e-01, -6.8345e-01, -4.7284e-01,  ...,  0.0000e+00,\n",
            "           0.0000e+00,  0.0000e+00],\n",
            "         [-4.8401e-01, -7.4149e-01, -4.3799e-01,  ...,  0.0000e+00,\n",
            "           0.0000e+00,  0.0000e+00],\n",
            "         ...,\n",
            "         [ 5.7556e-02, -9.5520e-03,  4.4769e-02,  ...,  2.1744e-03,\n",
            "          -4.5441e-02, -1.7822e-02],\n",
            "         [-5.8746e-03,  2.4048e-02, -9.9411e-03,  ...,  1.0620e-02,\n",
            "          -1.4565e-02,  9.7656e-03],\n",
            "         [ 5.7259e-03, -3.4733e-03, -1.8570e-02,  ..., -5.4474e-02,\n",
            "           2.7847e-03, -2.6588e-03]]], device='cuda:0'), tensor([[-0.1729, -1.3968, -2.0081,  ..., -1.6563, -1.3528, -1.5106]],\n",
            "       device='cuda:0'), tensor([[-0.3714, -1.4495, -0.3403,  ..., -0.6773, -0.3750,  0.6522]],\n",
            "       device='cuda:0'))]\n",
            "Data successfully serialized to sample_embeddings.parquet\n"
          ]
        }
      ],
      "source": [
        "!python compute_embeddings.py"
      ]
    },
    {
      "cell_type": "markdown",
      "metadata": {
        "id": "10iMo-RUa_yv"
      },
      "source": [
        "## Clear memory"
      ]
    },
    {
      "cell_type": "code",
      "execution_count": 4,
      "metadata": {
        "id": "-YltRmPgMuNa"
      },
      "outputs": [],
      "source": [
        "import torch\n",
        "import gc\n",
        "\n",
        "\n",
        "def flush():\n",
        "    torch.cuda.empty_cache()\n",
        "    gc.collect()\n",
        "\n",
        "flush()"
      ]
    },
    {
      "cell_type": "markdown",
      "metadata": {
        "id": "UO5oEtOJbBS9"
      },
      "source": [
        "## Train!"
      ]
    },
    {
      "cell_type": "code",
      "execution_count": 23,
      "metadata": {},
      "outputs": [
        {
          "name": "stdout",
          "output_type": "stream",
          "text": [
            "\u001b[34m\u001b[1mwandb\u001b[0m: Appending key for api.wandb.ai to your netrc file: /teamspace/studios/this_studio/.netrc\n"
          ]
        }
      ],
      "source": [
        "!wandb login 2d5b5d33aaf4716a466c81d4526b5cecb9ba6e37"
      ]
    },
    {
      "cell_type": "code",
      "execution_count": 37,
      "metadata": {
        "id": "HuJ6hdm2M4Aw"
      },
      "outputs": [
        {
          "name": "stdout",
          "output_type": "stream",
          "text": [
            "07/04/2024 00:29:10 - INFO - __main__ - Distributed environment: NO\n",
            "Num processes: 1\n",
            "Process index: 0\n",
            "Local process index: 0\n",
            "Device: cuda\n",
            "\n",
            "Mixed precision type: fp16\n",
            "\n",
            "                                          image_hash  ...                      negative_pooled_prompt_embeds\n",
            "0  52504d405d31c6d1bf47d29b457cd5466da8ea47aed0f9...  ...  [-0.3713539242744446, -1.4495151042938232, -0....\n",
            "1  ea4eff802a86762ba02f24c3e965c276007d0b9d3171c1...  ...  [-0.3713539242744446, -1.4495151042938232, -0....\n",
            "2  63e69121120a864eb7dab93fe7136a50750417a1d6ec5b...  ...  [-0.3713539242744446, -1.4495151042938232, -0....\n",
            "3  43ceb5582f86556468719f2b0ee6decd131a9fc759a10a...  ...  [-0.3713539242744446, -1.4495151042938232, -0....\n",
            "4  f9c212aa6c7509941ce6f57db361157e095bb408d50b6b...  ...  [-0.3713539242744446, -1.4495151042938232, -0....\n",
            "5  d7575e4506102abb98a76bc9c8a03f6704813f8dadae93...  ...  [-0.3713539242744446, -1.4495151042938232, -0....\n",
            "6  5299dad4e362803326c80a9c5c0538b92eb7acaa7b5dce...  ...  [-0.3713539242744446, -1.4495151042938232, -0....\n",
            "7  f5551568b421dd0defe52eaeb6f1b79ed20b1fc3de40ac...  ...  [-0.3713539242744446, -1.4495151042938232, -0....\n",
            "8  73e15380624de402a2cb00a1c691227c45ee4ae9108dae...  ...  [-0.3713539242744446, -1.4495151042938232, -0....\n",
            "9  a3826cc4062b08c64aa933ed215999962812974c59e5e4...  ...  [-0.3713539242744446, -1.4495151042938232, -0....\n",
            "\n",
            "[10 rows x 5 columns]\n",
            "\u001b[34m\u001b[1mwandb\u001b[0m: Currently logged in as: \u001b[33mkarthiksing05\u001b[0m (\u001b[33mkarthiksing05-Independent\u001b[0m). Use \u001b[1m`wandb login --relogin`\u001b[0m to force relogin\n",
            "\u001b[34m\u001b[1mwandb\u001b[0m: Tracking run with wandb version 0.17.4\n",
            "\u001b[34m\u001b[1mwandb\u001b[0m: Run data is saved locally in \u001b[35m\u001b[1m/teamspace/studios/this_studio/diffusers/examples/research_projects/sd3_lora_colab/wandb/run-20240704_002921-5dbk4q0l\u001b[0m\n",
            "\u001b[34m\u001b[1mwandb\u001b[0m: Run \u001b[1m`wandb offline`\u001b[0m to turn off syncing.\n",
            "\u001b[34m\u001b[1mwandb\u001b[0m: Syncing run \u001b[33mvisionary-fog-11\u001b[0m\n",
            "\u001b[34m\u001b[1mwandb\u001b[0m: ⭐️ View project at \u001b[34m\u001b[4mhttps://wandb.ai/karthiksing05-Independent/dreambooth-sd3-lora-miniature\u001b[0m\n",
            "\u001b[34m\u001b[1mwandb\u001b[0m: 🚀 View run at \u001b[34m\u001b[4mhttps://wandb.ai/karthiksing05-Independent/dreambooth-sd3-lora-miniature/runs/5dbk4q0l\u001b[0m\n",
            "07/04/2024 00:29:25 - INFO - __main__ - ***** Running training *****\n",
            "07/04/2024 00:29:25 - INFO - __main__ -   Num examples = 10\n",
            "07/04/2024 00:29:25 - INFO - __main__ -   Num batches each epoch = 10\n",
            "07/04/2024 00:29:25 - INFO - __main__ -   Num Epochs = 167\n",
            "07/04/2024 00:29:25 - INFO - __main__ -   Instantaneous batch size per device = 1\n",
            "07/04/2024 00:29:25 - INFO - __main__ -   Total train batch size (w. parallel, distributed & accumulation) = 4\n",
            "07/04/2024 00:29:25 - INFO - __main__ -   Gradient Accumulation steps = 4\n",
            "07/04/2024 00:29:25 - INFO - __main__ -   Total optimization steps = 500\n",
            "Steps: 100%|██████████| 500/500 [31:41<00:00,  4.04s/it, loss=0.0726, lr=0.0001]07/04/2024 01:01:06 - INFO - accelerate.accelerator - Saving current state to trained-sd3-lora-miniature/checkpoint-500\n",
            "Model weights saved in trained-sd3-lora-miniature/checkpoint-500/pytorch_lora_weights.safetensors\n",
            "07/04/2024 01:01:07 - INFO - accelerate.checkpointing - Optimizer state saved in trained-sd3-lora-miniature/checkpoint-500/optimizer.bin\n",
            "07/04/2024 01:01:07 - INFO - accelerate.checkpointing - Scheduler state saved in trained-sd3-lora-miniature/checkpoint-500/scheduler.bin\n",
            "07/04/2024 01:01:07 - INFO - accelerate.checkpointing - Sampler state for dataloader 0 saved in trained-sd3-lora-miniature/checkpoint-500/sampler.bin\n",
            "07/04/2024 01:01:07 - INFO - accelerate.checkpointing - Gradient scaler state saved in trained-sd3-lora-miniature/checkpoint-500/scaler.pt\n",
            "07/04/2024 01:01:07 - INFO - accelerate.checkpointing - Random states saved in trained-sd3-lora-miniature/checkpoint-500/random_states_0.pkl\n",
            "07/04/2024 01:01:07 - INFO - __main__ - Saved state to trained-sd3-lora-miniature/checkpoint-500\n",
            "Steps: 100%|███████████| 500/500 [31:42<00:00,  4.04s/it, loss=0.158, lr=0.0001]Model weights saved in trained-sd3-lora-miniature/pytorch_lora_weights.safetensors\n",
            "\n",
            "Loading pipeline components...:   0%|                     | 0/9 [00:00<?, ?it/s]\u001b[A\n",
            "\n",
            "Loading checkpoint shards:   0%|                          | 0/2 [00:00<?, ?it/s]\u001b[A\u001b[A\n",
            "\n",
            "Loading checkpoint shards:  50%|█████████         | 1/2 [00:01<00:01,  1.14s/it]\u001b[A\u001b[A\n",
            "\n",
            "Loading checkpoint shards: 100%|██████████████████| 2/2 [00:02<00:00,  1.14s/it]\u001b[A\u001b[A\n",
            "Loaded text_encoder_3 as T5EncoderModel from `text_encoder_3` subfolder of stabilityai/stable-diffusion-3-medium-diffusers.\n",
            "\n",
            "Loading pipeline components...:  11%|█▍           | 1/9 [00:02<00:18,  2.34s/it]\u001b[ALoaded tokenizer as CLIPTokenizer from `tokenizer` subfolder of stabilityai/stable-diffusion-3-medium-diffusers.\n",
            "Loaded transformer as SD3Transformer2DModel from `transformer` subfolder of stabilityai/stable-diffusion-3-medium-diffusers.\n",
            "\n",
            "Loading pipeline components...:  33%|████▎        | 3/9 [00:03<00:06,  1.00s/it]\u001b[ALoaded tokenizer_2 as CLIPTokenizer from `tokenizer_2` subfolder of stabilityai/stable-diffusion-3-medium-diffusers.\n",
            "Loaded vae as AutoencoderKL from `vae` subfolder of stabilityai/stable-diffusion-3-medium-diffusers.\n",
            "Loaded text_encoder_2 as CLIPTextModelWithProjection from `text_encoder_2` subfolder of stabilityai/stable-diffusion-3-medium-diffusers.\n",
            "\n",
            "Loading pipeline components...:  67%|████████▋    | 6/9 [00:03<00:01,  2.19it/s]\u001b[ALoaded text_encoder as CLIPTextModelWithProjection from `text_encoder` subfolder of stabilityai/stable-diffusion-3-medium-diffusers.\n",
            "\n",
            "Loading pipeline components...:  78%|██████████   | 7/9 [00:03<00:00,  2.56it/s]\u001b[ALoaded scheduler as FlowMatchEulerDiscreteScheduler from `scheduler` subfolder of stabilityai/stable-diffusion-3-medium-diffusers.\n",
            "You set `add_prefix_space`. The tokenizer needs to be converted from the slow tokenizers\n",
            "Loaded tokenizer_3 as T5TokenizerFast from `tokenizer_3` subfolder of stabilityai/stable-diffusion-3-medium-diffusers.\n",
            "\n",
            "Loading pipeline components...: 100%|█████████████| 9/9 [00:04<00:00,  2.20it/s]\u001b[A\n",
            "\u001b[34m\u001b[1mwandb\u001b[0m:                                                                                \n",
            "\u001b[34m\u001b[1mwandb\u001b[0m: W&B sync reduced upload amount by 12.2%             \n",
            "\u001b[34m\u001b[1mwandb\u001b[0m: \n",
            "\u001b[34m\u001b[1mwandb\u001b[0m: Run history:\n",
            "\u001b[34m\u001b[1mwandb\u001b[0m: loss ▁▂▃▁▁▃▁▂▂▁▂▁▁▁▂▂▂▂▂▂▂▂▂▁▂▁▂▄▂▂▂▂▁▂▂▁▁▁▂█\n",
            "\u001b[34m\u001b[1mwandb\u001b[0m:   lr ▁▁▁▁▁▁▁▁▁▁▁▁▁▁▁▁▁▁▁▁▁▁▁▁▁▁▁▁▁▁▁▁▁▁▁▁▁▁▁▁\n",
            "\u001b[34m\u001b[1mwandb\u001b[0m: \n",
            "\u001b[34m\u001b[1mwandb\u001b[0m: Run summary:\n",
            "\u001b[34m\u001b[1mwandb\u001b[0m: loss 0.15762\n",
            "\u001b[34m\u001b[1mwandb\u001b[0m:   lr 0.0001\n",
            "\u001b[34m\u001b[1mwandb\u001b[0m: \n",
            "\u001b[34m\u001b[1mwandb\u001b[0m: 🚀 View run \u001b[33mvisionary-fog-11\u001b[0m at: \u001b[34m\u001b[4mhttps://wandb.ai/karthiksing05-Independent/dreambooth-sd3-lora-miniature/runs/5dbk4q0l\u001b[0m\n",
            "\u001b[34m\u001b[1mwandb\u001b[0m: ⭐️ View project at: \u001b[34m\u001b[4mhttps://wandb.ai/karthiksing05-Independent/dreambooth-sd3-lora-miniature\u001b[0m\n",
            "\u001b[34m\u001b[1mwandb\u001b[0m: Synced 6 W&B file(s), 0 media file(s), 2 artifact file(s) and 0 other file(s)\n",
            "\u001b[34m\u001b[1mwandb\u001b[0m: Find logs at: \u001b[35m\u001b[1m./wandb/run-20240704_002921-5dbk4q0l/logs\u001b[0m\n",
            "\u001b[34m\u001b[1mwandb\u001b[0m: \u001b[33mWARNING\u001b[0m The new W&B backend becomes opt-out in version 0.18.0; try it out with `wandb.require(\"core\")`! See https://wandb.me/wandb-core for more information.\n",
            "/home/zeus/miniconda3/envs/cloudspace/lib/python3.10/site-packages/wandb/sdk/wandb_run.py:2310: UserWarning: Run (5dbk4q0l) is finished. The call to `_console_raw_callback` will be ignored. Please make sure that you are using an active run.\n",
            "  lambda data: self._console_raw_callback(\"stderr\", data),\n",
            "Steps: 100%|███████████| 500/500 [31:52<00:00,  3.82s/it, loss=0.158, lr=0.0001]\n"
          ]
        }
      ],
      "source": [
        "!accelerate launch train_dreambooth_lora_sd3_miniature.py \\\n",
        "  --pretrained_model_name_or_path=\"stabilityai/stable-diffusion-3-medium-diffusers\"  \\\n",
        "  --instance_data_dir=\"images\" \\\n",
        "  --data_df_path=\"sample_embeddings.parquet\" \\\n",
        "  --output_dir=\"trained-sd3-lora-miniature\" \\\n",
        "  --mixed_precision=\"fp16\" \\\n",
        "  --instance_prompt=\"a sports drink ad\" \\\n",
        "  --resolution=1024 \\\n",
        "  --train_batch_size=1 \\\n",
        "  --gradient_accumulation_steps=4 --gradient_checkpointing \\\n",
        "  --use_8bit_adam \\\n",
        "  --learning_rate=1e-4 \\\n",
        "  --report_to=\"wandb\" \\\n",
        "  --lr_scheduler=\"constant\" \\\n",
        "  --lr_warmup_steps=0 \\\n",
        "  --max_train_steps=500 \\\n",
        "  --seed=\"0\""
      ]
    },
    {
      "cell_type": "markdown",
      "metadata": {
        "id": "itS-dsJ0gjy3"
      },
      "source": [
        "Training will take about an hour to complete depending on the length of your dataset."
      ]
    },
    {
      "cell_type": "markdown",
      "metadata": {
        "id": "BpOuL7S1bI6j"
      },
      "source": [
        "## Inference"
      ]
    },
    {
      "cell_type": "code",
      "execution_count": 5,
      "metadata": {
        "id": "clfMv4jKfQzb"
      },
      "outputs": [],
      "source": [
        "flush()"
      ]
    },
    {
      "cell_type": "code",
      "execution_count": 8,
      "metadata": {
        "id": "np03SXHkbKpG"
      },
      "outputs": [
        {
          "data": {
            "application/vnd.jupyter.widget-view+json": {
              "model_id": "6acbd2d25cf94fd68d642feeb5774d34",
              "version_major": 2,
              "version_minor": 0
            },
            "text/plain": [
              "Loading pipeline components...:   0%|          | 0/9 [00:00<?, ?it/s]"
            ]
          },
          "metadata": {},
          "output_type": "display_data"
        },
        {
          "data": {
            "application/vnd.jupyter.widget-view+json": {
              "model_id": "42a05152a9cc4a5e92a94bb2dd7bb22e",
              "version_major": 2,
              "version_minor": 0
            },
            "text/plain": [
              "Loading checkpoint shards:   0%|          | 0/2 [00:00<?, ?it/s]"
            ]
          },
          "metadata": {},
          "output_type": "display_data"
        },
        {
          "data": {
            "application/vnd.jupyter.widget-view+json": {
              "model_id": "fd7417a456264e258b634d424e01b31f",
              "version_major": 2,
              "version_minor": 0
            },
            "text/plain": [
              "  0%|          | 0/28 [00:00<?, ?it/s]"
            ]
          },
          "metadata": {},
          "output_type": "display_data"
        }
      ],
      "source": [
        "from diffusers import DiffusionPipeline\n",
        "import torch\n",
        "\n",
        "pipeline = DiffusionPipeline.from_pretrained(\n",
        "    \"stabilityai/stable-diffusion-3-medium-diffusers\",\n",
        "    torch_dtype=torch.float16\n",
        ")\n",
        "lora_output_path = \"trained-sd3-lora-miniature\"\n",
        "pipeline.load_lora_weights(lora_output_path)\n",
        "\n",
        "pipeline.enable_sequential_cpu_offload()"
      ]
    },
    {
      "cell_type": "code",
      "execution_count": 12,
      "metadata": {},
      "outputs": [
        {
          "data": {
            "application/vnd.jupyter.widget-view+json": {
              "model_id": "a5d85e433c7a406893a3fdca1a34b129",
              "version_major": 2,
              "version_minor": 0
            },
            "text/plain": [
              "  0%|          | 0/28 [00:00<?, ?it/s]"
            ]
          },
          "metadata": {},
          "output_type": "display_data"
        }
      ],
      "source": [
        "image = pipeline(\"ad for black sunglasses with pale blue lenses with technological stylistic elements from sports drink ads showing the price as $50 and the name Gogglez somewhere on the advertisement, juice and colorful liquid surrounding the advertisement but NO BOTTLES anywhere on the ad\").images[0]\n",
        "image.save(\"test.png\")"
      ]
    },
    {
      "cell_type": "markdown",
      "metadata": {},
      "source": [
        "## Image Inpainting!!!\n",
        "This technique is what we'll have to go for since Image2ImagePipeline isn't natively fine-tune supported yet and this is the easier computational solution for now.\n",
        "\n",
        "This will not really be classical image inpainting, implemented through the finetuning of a model, but rather a technique that doesn't make us start image generation from scratch and rather optimizes based on a fed image.\n",
        "- https://arxiv.org/abs/2209.00647\n",
        "- https://proceedings.neurips.cc/paper_files/paper/2023/hash/1e75f7539cbde5de895fab238ff42519-Abstract-Conference.html"
      ]
    },
    {
      "cell_type": "markdown",
      "metadata": {
        "id": "HDfrY2opjGjD"
      },
      "source": [
        "Note that inference will be very slow in this case because we're loading and unloading individual components of the models and that introduces significant data movement overhead. Refer to [this resource](https://huggingface.co/blog/sd3#memory-optimizations-for-sd3) for more memory optimization related techniques."
      ]
    }
  ],
  "metadata": {
    "accelerator": "GPU",
    "colab": {
      "gpuType": "T4",
      "provenance": []
    },
    "kernelspec": {
      "display_name": "Python 3",
      "name": "python3"
    }
  },
  "nbformat": 4,
  "nbformat_minor": 0
}
